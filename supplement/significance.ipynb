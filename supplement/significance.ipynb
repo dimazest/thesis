{
 "cells": [
  {
   "cell_type": "code",
   "execution_count": 1,
   "metadata": {},
   "outputs": [],
   "source": [
    "import numpy as np\n",
    "from scipy.stats import t, norm\n",
    "from math import atanh, pow\n",
    "from numpy import tanh\n",
    "\n",
    "from scipy.stats import binom_test"
   ]
  },
  {
   "cell_type": "code",
   "execution_count": 2,
   "metadata": {},
   "outputs": [],
   "source": [
    "def dependent_corr(xy, xz, yz, n, twotailed=True):\n",
    "    d = xy - xz\n",
    "    determin = max(1 - xy * xy - xz * xz - yz * yz + 2 * xy * xz * yz, 0)\n",
    "    av = (xy + xz)/2\n",
    "    cube = (1 - yz) * (1 - yz) * (1 - yz)\n",
    "\n",
    "    t2 = d * np.sqrt((n - 1) * (1 + yz)/(((2 * (n - 1)/(n - 3)) * determin + av * av * cube)))\n",
    "    p = 1 - t.cdf(abs(t2), n - 3)\n",
    "\n",
    "    if twotailed:\n",
    "        p *= 2\n",
    "\n",
    "    return t2, p"
   ]
  },
  {
   "cell_type": "markdown",
   "metadata": {},
   "source": [
    "$$\\textit{stest-p}(\\hat{r}_{AT}, \\hat{r}_{BT}, r_{AB}, p_0, n)\n",
    "{\\implies} \\textit{pval} < p_0$$\n",
    "\n",
    "$$\\sigma_{p_0}^r =\n",
    "  \\min\\{\\sigma | \\forall\\, 0 {<} r' {<} 1\\, \\textit{stest-p}(r',\n",
    "  \\min(r'+\\sigma, 1), r, p_0, n) \\} $$"
   ]
  },
  {
   "cell_type": "code",
   "execution_count": 3,
   "metadata": {},
   "outputs": [],
   "source": [
    "def stest_p(r_at, r_bt, r_ab, p0, n):\n",
    "    t, p_val = dependent_corr(r_at, r_bt, r_ab, n, twotailed=False)\n",
    "    \n",
    "    return p_val < p0"
   ]
  },
  {
   "cell_type": "code",
   "execution_count": 4,
   "metadata": {},
   "outputs": [],
   "source": [
    "def stest_p_test(σ, r=0.9, p0=0.05, n=3000):\n",
    "    return all(stest_p(r_, min(r_ + σ, 1), r, p0, n) for r_ in np.linspace(0, 1 - σ, num=100))"
   ]
  },
  {
   "cell_type": "code",
   "execution_count": 5,
   "metadata": {},
   "outputs": [],
   "source": [
    "def find_sigma(r=0.9, p0=0.05, n=3000):\n",
    "    for σ in np.arange(0, 1, 0.000001):\n",
    "        if stest_p_test(σ, r, p0, n):\n",
    "            return σ"
   ]
  },
  {
   "cell_type": "code",
   "execution_count": 6,
   "metadata": {},
   "outputs": [],
   "source": [
    "assert (\n",
    "    stest_p_test(0.013), stest_p_test(0.013435), stest_p_test(0.014), stest_p_test(0.182), stest_p_test(0.183)\n",
    ") == (\n",
    "    False, True, True, True, True\n",
    ")"
   ]
  },
  {
   "cell_type": "code",
   "execution_count": 7,
   "metadata": {},
   "outputs": [],
   "source": [
    "def Search(left=0, right=1, eps=0.00001):\n",
    "    while right - left > eps:\n",
    "        half = (left + right) / 2\n",
    "        is_smaller = yield half\n",
    "        \n",
    "        if is_smaller:\n",
    "            right = half\n",
    "        else:\n",
    "            left = half"
   ]
  },
  {
   "cell_type": "code",
   "execution_count": 8,
   "metadata": {},
   "outputs": [],
   "source": [
    "assert not stest_p_test(0.012, 0.9, 0.05, 3000)"
   ]
  },
  {
   "cell_type": "code",
   "execution_count": 9,
   "metadata": {},
   "outputs": [],
   "source": [
    "assert stest_p_test(0.01345, 0.9, 0.05, 3000)\n",
    "assert stest_p_test(1, 0.9, 0.05, 3000)"
   ]
  },
  {
   "cell_type": "code",
   "execution_count": 10,
   "metadata": {},
   "outputs": [],
   "source": [
    "def binary_find_sigma(r=0.9, p0=0.05, n=3000):\n",
    "    search = Search()\n",
    "    sigma = next(search)\n",
    "    while True:\n",
    "        try:\n",
    "            sigma = search.send(stest_p_test(sigma, r, p0, n))\n",
    "        except StopIteration:\n",
    "            return sigma"
   ]
  },
  {
   "cell_type": "code",
   "execution_count": 11,
   "metadata": {},
   "outputs": [
    {
     "name": "stdout",
     "output_type": "stream",
     "text": [
      "CPU times: user 1.66 s, sys: 9.64 ms, total: 1.67 s\n",
      "Wall time: 1.67 s\n"
     ]
    }
   ],
   "source": [
    "%time assert '{:.1%}'.format(find_sigma(0.9, 0.05, 3000)) == '1.3%'"
   ]
  },
  {
   "cell_type": "code",
   "execution_count": 12,
   "metadata": {},
   "outputs": [
    {
     "name": "stdout",
     "output_type": "stream",
     "text": [
      "CPU times: user 158 ms, sys: 4.21 ms, total: 162 ms\n",
      "Wall time: 165 ms\n"
     ]
    }
   ],
   "source": [
    "%time assert '{:.1%}'.format(binary_find_sigma()) == '1.3%'"
   ]
  },
  {
   "cell_type": "markdown",
   "metadata": {},
   "source": [
    "![alt text](sigmas.png \"Title\")"
   ]
  },
  {
   "cell_type": "code",
   "execution_count": 13,
   "metadata": {},
   "outputs": [],
   "source": [
    "rs = 0.5, 0.7, 0.9\n",
    "p0s = 0.01, 0.05 "
   ]
  },
  {
   "cell_type": "code",
   "execution_count": 14,
   "metadata": {},
   "outputs": [],
   "source": [
    "datasets = (\n",
    "    ('MEN', 3000),\n",
    "    ('RW', 2034),\n",
    "    ('SCWS', 2003),\n",
    "    ('SIMLEX', 999),\n",
    "    ('WS', 353),\n",
    "    ('MTURK', 287),\n",
    "    ('WS-REL', 252),\n",
    "    ('WS_SEM', 203),\n",
    "    ('RG', 65),\n",
    "    ('MC', 30),\n",
    "    ('KS14', 108),\n",
    "    ('GS11', 200),\n",
    ")"
   ]
  },
  {
   "cell_type": "code",
   "execution_count": 15,
   "metadata": {},
   "outputs": [
    {
     "name": "stdout",
     "output_type": "stream",
     "text": [
      "MEN 0.0425 0.0329 0.019 0.03 0.0233 0.0134\n",
      "RW 0.0516 0.04 0.0231 0.0365 0.0283 0.0163\n",
      "SCWS 0.052 0.0403 0.0232 0.0368 0.0285 0.0164\n",
      "SIMLEX 0.0736 0.057 0.0329 0.0521 0.0404 0.0233\n",
      "WS 0.124 0.0959 0.0554 0.0877 0.068 0.0393\n",
      "MTURK 0.137 0.106 0.0615 0.0973 0.0754 0.0436\n",
      "WS-REL 0.146 0.113 0.0656 0.104 0.0805 0.0465\n",
      "WS_SEM 0.163 0.126 0.0731 0.116 0.0898 0.0519\n",
      "RG 0.286 0.223 0.13 0.206 0.16 0.0927\n",
      "MC 0.418 0.328 0.191 0.307 0.239 0.139\n",
      "KS14 0.223 0.173 0.1 0.159 0.124 0.0714\n",
      "GS11 0.164 0.127 0.0737 0.117 0.0905 0.0523\n"
     ]
    }
   ],
   "source": [
    "for dataset, size in datasets:\n",
    "    print(dataset, ' '.join('{:.3}'.format(binary_find_sigma(r, p0, size)) for p0 in p0s for r in rs))"
   ]
  },
  {
   "cell_type": "code",
   "execution_count": null,
   "metadata": {},
   "outputs": [],
   "source": []
  },
  {
   "cell_type": "code",
   "execution_count": 21,
   "metadata": {},
   "outputs": [],
   "source": [
    "def stest_binom(s, f, p0=0.05):\n",
    "    return binom_test([s, f], alternative='greater') < p0"
   ]
  },
  {
   "cell_type": "code",
   "execution_count": 22,
   "metadata": {},
   "outputs": [],
   "source": [
    "def stest_binom_test(sigma, N=28, p0=0.05):\n",
    "    s = int(sigma * N)\n",
    "    return all(stest_binom(s + f, f) for f in range(N - s))"
   ]
  },
  {
   "cell_type": "code",
   "execution_count": 23,
   "metadata": {},
   "outputs": [],
   "source": [
    "def binary_find_btest(p0=0.05, n=28):\n",
    "    search = Search()\n",
    "    sigma = next(search)\n",
    "    while True:\n",
    "        try:\n",
    "            sigma = search.send(stest_binom_test(sigma, n, p0))\n",
    "        except StopIteration:\n",
    "            return sigma"
   ]
  },
  {
   "cell_type": "code",
   "execution_count": 24,
   "metadata": {},
   "outputs": [
    {
     "data": {
      "text/plain": [
       "'0.43'"
      ]
     },
     "execution_count": 24,
     "metadata": {},
     "output_type": "execute_result"
    }
   ],
   "source": [
    "'{:.2f}'.format(binary_find_btest())"
   ]
  },
  {
   "cell_type": "code",
   "execution_count": 25,
   "metadata": {},
   "outputs": [
    {
     "name": "stdout",
     "output_type": "stream",
     "text": [
      "28: 0.429\n",
      "50: 0.320\n",
      "100: 0.230\n",
      "1000: 0.074\n",
      "2000: 0.052\n",
      "3000: 0.043\n"
     ]
    }
   ],
   "source": [
    "for n in [28, 50, 100, 1000, 2000, 3000]:\n",
    "    print('{}: {:.3f}'.format(n, binary_find_btest(n=n)))"
   ]
  },
  {
   "cell_type": "code",
   "execution_count": null,
   "metadata": {},
   "outputs": [],
   "source": []
  }
 ],
 "metadata": {
  "kernelspec": {
   "display_name": "Python 3",
   "language": "python",
   "name": "python3"
  },
  "language_info": {
   "codemirror_mode": {
    "name": "ipython",
    "version": 3
   },
   "file_extension": ".py",
   "mimetype": "text/x-python",
   "name": "python",
   "nbconvert_exporter": "python",
   "pygments_lexer": "ipython3",
   "version": "3.6.2"
  }
 },
 "nbformat": 4,
 "nbformat_minor": 2
}
